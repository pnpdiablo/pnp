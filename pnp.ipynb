{
 "cells": [
  {
   "cell_type": "markdown",
   "metadata": {},
   "source": [
    "P != NP\n",
    "\n",
    "Here are the steps:\n",
    "\n",
    "•first present a problem with n elements\n",
    "\n",
    "•give a concrete implementation of the problem in Python\n",
    "\n",
    "•show that the problem is verifiable in n steps\n",
    "\n",
    "•show that at least one step is required for verification\n",
    "\n",
    "•show that the problem requires 2**(n-1) verifications\n",
    "\n",
    "Finally, we will see that the problem is verifiable in polynomial steps, but requires non polynomial steps to find the solution.\n",
    "\n"
   ]
  },
  {
   "cell_type": "markdown",
   "metadata": {},
   "source": [
    "Suppose there is a box containing some gold. The box can only be opened with a certain combination of n keys. You can't take the locks off one at a time; you must use the try the solution keys all at the same time.\n",
    "\n",
    "#Python implementation\n",
    "\n",
    "To model the box, we create a class NP taking n as a parameter, where n is the possible number of locks on the box. The class then creates n candidate locks, which are objects (and therefore hash-able, and equal). We then select a random number, called solution_length, less than or equal n. This model the the number of actual locks on the box. Finally, the \"solution\" is defined to be the first solution_length elements of the candidates.  \n"
   ]
  },
  {
   "cell_type": "code",
   "execution_count": 6,
   "metadata": {
    "collapsed": false
   },
   "outputs": [],
   "source": [
    "import random\n",
    "class NP:\n",
    "    def __init__(self, n):\n",
    "        \"\"\"Create a box, which can only be opened with up to n keys\n",
    "        Each key is unique.\"\"\"\n",
    "        self.locks = list(object() for x in range(n))\n",
    "        solution_length = int(random.random()*n)\n",
    "        self._solution = set(self.locks[i] for i in range(solution_length))\n",
    "\n"
   ]
  },
  {
   "cell_type": "markdown",
   "metadata": {},
   "source": [
    "Next, we create a method to return all possible candidates."
   ]
  },
  {
   "cell_type": "code",
   "execution_count": null,
   "metadata": {
    "collapsed": true
   },
   "outputs": [],
   "source": [
    "    def candidates(self):\n",
    "        return set(self.locks)"
   ]
  },
  {
   "cell_type": "markdown",
   "metadata": {},
   "source": [
    "Finally, we create a method to verify whether a set of candidates matches this solution. "
   ]
  },
  {
   "cell_type": "code",
   "execution_count": 7,
   "metadata": {
    "collapsed": true
   },
   "outputs": [],
   "source": [
    "    def is_solution(self, candidate):\n",
    "        if len(self._solution) != len(candidate):\n",
    "            return False\n",
    "        #Test the keys in candidate\n",
    "        for key in candidate:\n",
    "            if key not in self._solution:\n",
    "                return False\n",
    "        return True\n",
    "    "
   ]
  },
  {
   "cell_type": "markdown",
   "metadata": {},
   "source": [
    "Any solution, which is checked by the method NP.is_solution can be verified to be true in j steps, where j is the number of locks in the solution; it must be less than equal n. (Most incorrect solutions will fail verification earlier.)"
   ]
  },
  {
   "cell_type": "markdown",
   "metadata": {},
   "source": [
    "We will now look at how to solve the problem, and then try to show that it's the best that can be done. \n",
    "\n",
    "In each iteration, we will examine all possible combinations of the candidates."
   ]
  },
  {
   "cell_type": "code",
   "execution_count": 2,
   "metadata": {
    "collapsed": true
   },
   "outputs": [],
   "source": [
    "from itertools import combinations\n",
    "def P(n):\n",
    "     np = NP(n)\n",
    "     i = 0\n",
    "     for solution_length in range(n):\n",
    "         for candidate in combinations(np.candidates(), solution_length):\n",
    "             if np.is_solution(candidate):\n",
    "                 pass #This is the answer, but carry on to show the \"diabolical\" case\n",
    "             i += 1\n",
    "     return i"
   ]
  },
  {
   "cell_type": "markdown",
   "metadata": {},
   "source": [
    "The above method must return i = 2**n-1. (Since we sum(combinations(n)) over n.)\n",
    "\n",
    "\n",
    "\n",
    "Just for fun, let's run some basic checks on P (though this step be verified by using the binomial theorem)."
   ]
  },
  {
   "cell_type": "code",
   "execution_count": 3,
   "metadata": {
    "collapsed": false
   },
   "outputs": [
    {
     "data": {
      "text/plain": [
       "3"
      ]
     },
     "execution_count": 3,
     "metadata": {},
     "output_type": "execute_result"
    }
   ],
   "source": [
    "P(2)"
   ]
  },
  {
   "cell_type": "code",
   "execution_count": 4,
   "metadata": {
    "collapsed": false
   },
   "outputs": [
    {
     "data": {
      "text/plain": [
       "15"
      ]
     },
     "execution_count": 4,
     "metadata": {},
     "output_type": "execute_result"
    }
   ],
   "source": [
    "P(4)"
   ]
  },
  {
   "cell_type": "code",
   "execution_count": 5,
   "metadata": {
    "collapsed": false
   },
   "outputs": [
    {
     "data": {
      "text/plain": [
       "255"
      ]
     },
     "execution_count": 5,
     "metadata": {},
     "output_type": "execute_result"
    }
   ],
   "source": [
    "P(8)"
   ]
  },
  {
   "cell_type": "markdown",
   "metadata": {
    "collapsed": true
   },
   "source": []
  }
 ],
 "metadata": {
  "kernelspec": {
   "display_name": "Python 3",
   "language": "python",
   "name": "python3"
  },
  "language_info": {
   "codemirror_mode": {
    "name": "ipython",
    "version": 3
   },
   "file_extension": ".py",
   "mimetype": "text/x-python",
   "name": "python",
   "nbconvert_exporter": "python",
   "pygments_lexer": "ipython3",
   "version": "3.4.5"
  }
 },
 "nbformat": 4,
 "nbformat_minor": 2
}
