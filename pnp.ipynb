{
 "cells": [
  {
   "cell_type": "markdown",
   "metadata": {},
   "source": [
    "Suppose there is a box containing some gold. The box can only be opened with a certain combination of n keys. You can't take the locks off one at a time; you must use the try the solution keys all at the same time.\n",
    "\n",
    "#Python implementation\n",
    "\n",
    "To model the box, we create a class NP taking n as a parameter, where n is the possible number of locks on the box. The class then creates n candidate locks, which are objects (and therefore hash-able, and equal). We then select a random number, called solution_length, less than or equal n. solution_length is the number of actual locks on the box. Finally, the \"solution\" is defined to be the first solution_length elements of the candidates.  \n"
   ]
  },
  {
   "cell_type": "code",
   "execution_count": 6,
   "metadata": {
    "collapsed": false
   },
   "outputs": [],
   "source": [
    "import random\n",
    "class NP:\n",
    "    def __init__(self, n):\n",
    "        \"\"\"Create a box, which can only be opened with up to n keys\n",
    "        Each key is unique.\"\"\"\n",
    "        self.locks = list(object() for x in range(n))\n",
    "        solution_length = int(random.random()*n)\n",
    "        self._solution = set(self.locks[i] for i in range(solution_length))\n",
    "\n"
   ]
  },
  {
   "cell_type": "markdown",
   "metadata": {},
   "source": [
    "Next, we create a method to return all possible candidates."
   ]
  },
  {
   "cell_type": "code",
   "execution_count": null,
   "metadata": {
    "collapsed": true
   },
   "outputs": [],
   "source": [
    "    def candidates(self):\n",
    "        return set(self.locks)"
   ]
  },
  {
   "cell_type": "markdown",
   "metadata": {},
   "source": [
    "Finally, we create a method to verify whether a set of candidates matches this solution. "
   ]
  },
  {
   "cell_type": "code",
   "execution_count": 7,
   "metadata": {
    "collapsed": true
   },
   "outputs": [],
   "source": [
    "    def is_solution(self, candidate):\n",
    "        if len(self._solution) != len(candidate):\n",
    "            return False\n",
    "        #Test the keys in candidate\n",
    "        for key in candidate:\n",
    "            if key not in self._solution:\n",
    "                return False\n",
    "        return True\n",
    "    "
   ]
  },
  {
   "cell_type": "markdown",
   "metadata": {},
   "source": [
    "Any solution, which is checked by the method NP.is_solution can be verified to be true in j steps, where j is the number of locks in the solution; it must be less than equal n. "
   ]
  },
  {
   "cell_type": "markdown",
   "metadata": {},
   "source": [
    "We will now look at how to solve the problem, and then try to show that it's the best that can be done. \n",
    "\n",
    "In each iteration, we will examine all possible combinations of the candidates."
   ]
  },
  {
   "cell_type": "code",
   "execution_count": 2,
   "metadata": {
    "collapsed": true
   },
   "outputs": [],
   "source": [
    "from itertools import combinations\n",
    "def P(n):\n",
    "     np = NP(n)\n",
    "     i = 0\n",
    "     for solution_length in range(n):\n",
    "         for candidate in combinations(np.candidates(), solution_length):\n",
    "             if np.is_solution(candidate):\n",
    "                 pass #This is the answer, but carry on to show the \"diabolical\" case\n",
    "             i += 1\n",
    "     return i"
   ]
  },
  {
   "cell_type": "markdown",
   "metadata": {},
   "source": [
    "The above method must return i = 2**n-1. (Since we sum(combinations(n)) over n.)\n"
   ]
  },
  {
   "cell_type": "markdown",
   "metadata": {
    "collapsed": true
   },
   "source": []
  }
 ],
 "metadata": {
  "kernelspec": {
   "display_name": "Python 3",
   "language": "python",
   "name": "python3"
  },
  "language_info": {
   "codemirror_mode": {
    "name": "ipython",
    "version": 3
   },
   "file_extension": ".py",
   "mimetype": "text/x-python",
   "name": "python",
   "nbconvert_exporter": "python",
   "pygments_lexer": "ipython3",
   "version": "3.4.5"
  }
 },
 "nbformat": 4,
 "nbformat_minor": 2
}
